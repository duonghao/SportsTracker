{
 "cells": [
  {
   "cell_type": "markdown",
   "metadata": {},
   "source": [
    "# Generate Pose Classification Dataset"
   ]
  },
  {
   "cell_type": "code",
   "execution_count": 1,
   "metadata": {},
   "outputs": [
    {
     "name": "stderr",
     "output_type": "stream",
     "text": [
      "/Users/hao/repos/SportsTracker/venv/lib/python3.10/site-packages/tqdm/auto.py:22: TqdmWarning: IProgress not found. Please update jupyter and ipywidgets. See https://ipywidgets.readthedocs.io/en/stable/user_install.html\n",
      "  from .autonotebook import tqdm as notebook_tqdm\n"
     ]
    }
   ],
   "source": [
    "import cv2\n",
    "import torch\n",
    "from tqdm import tqdm\n",
    "from os import listdir, mkdir\n",
    "from os.path import isfile, join, splitext\n",
    "from pathlib import Path"
   ]
  },
  {
   "cell_type": "code",
   "execution_count": 2,
   "metadata": {},
   "outputs": [
    {
     "name": "stderr",
     "output_type": "stream",
     "text": [
      "Using cache found in /Users/hao/.cache/torch/hub/ultralytics_yolov5_master\n",
      "YOLOv5 🚀 2022-12-19 Python-3.10.9 torch-1.13.1 CPU\n",
      "\n",
      "Fusing layers... \n",
      "YOLOv5m summary: 290 layers, 21172173 parameters, 0 gradients\n",
      "Adding AutoShape... \n"
     ]
    }
   ],
   "source": [
    "# Model\n",
    "model = torch.hub.load('ultralytics/yolov5', 'yolov5m')  # or yolov5n - yolov5x6, custom\n",
    "\n",
    "# Video\n",
    "video_path = './videos'\n",
    "\n",
    "# Volleyball Poses Images Path\n",
    "crop_img_path = './datasets/volleyball_poses'\n",
    "\n",
    "# Sets Image Path\n",
    "sets = '/sets'\n",
    "\n",
    "# Digs Image Path\n",
    "digs = '/digs'\n",
    "\n",
    "# Others\n",
    "others = '/others'"
   ]
  },
  {
   "cell_type": "code",
   "execution_count": 3,
   "metadata": {},
   "outputs": [
    {
     "name": "stdout",
     "output_type": "stream",
     "text": [
      "['20221209_154007.mp4', '20221209_153751.mp4', '20221209_153931.mp4', '20221209_153611.mp4']\n"
     ]
    }
   ],
   "source": [
    "video_files = [f for f in listdir(video_path) if isfile(join(video_path, f))]\n",
    "print(video_files)"
   ]
  },
  {
   "cell_type": "code",
   "execution_count": 4,
   "metadata": {},
   "outputs": [
    {
     "name": "stdout",
     "output_type": "stream",
     "text": [
      "1522\n"
     ]
    }
   ],
   "source": [
    "quit = False\n",
    "\n",
    "for video_file in video_files:\n",
    "\n",
    "    if quit:\n",
    "        break\n",
    "\n",
    "    capture = cv2.VideoCapture(f'{video_path}/{video_file}')\n",
    "\n",
    "    _, image = capture.read()\n",
    "    ims = []\n",
    "    num_frames = int(capture.get(cv2.CAP_PROP_FRAME_COUNT))\n",
    "    print(num_frames)\n",
    "\n",
    "    # Set up img numbering system\n",
    "    sets_num = 0\n",
    "    digs_num = 0\n",
    "    others_num = 0\n",
    "\n",
    "    # Set up file structure\n",
    "    path = Path(f'{crop_img_path}/{splitext(video_file)[0]}{digs}')\n",
    "    path.mkdir(parents=True, exist_ok=True)\n",
    "    path = Path(f'{crop_img_path}/{splitext(video_file)[0]}{sets}')\n",
    "    path.mkdir(parents=True, exist_ok=True)\n",
    "    path = Path(f'{crop_img_path}/{splitext(video_file)[0]}{others}')\n",
    "    path.mkdir(parents=True, exist_ok=True)\n",
    "\n",
    "    for frame in range(1,num_frames):\n",
    "\n",
    "        if quit:\n",
    "            break\n",
    "\n",
    "        _, image = capture.read()\n",
    "\n",
    "        # inference\n",
    "        img_rgb = cv2.cvtColor(image, cv2.COLOR_BGR2RGB)\n",
    "        results = model(img_rgb)\n",
    "        dets = results.pandas().xyxy[0]\n",
    "\n",
    "        if not dets.empty:\n",
    "\n",
    "            # filter person\n",
    "            dets = dets.loc[dets['name'] == 'person']\n",
    "\n",
    "            # crop image by the bbox\n",
    "            for _, det in dets.iterrows():\n",
    "                crop_img = image[int(det.ymin):int(det.ymax), int(det.xmin):int(det.xmax)]\n",
    "\n",
    "                cv2.imshow('cropped_images', crop_img)\n",
    "\n",
    "                key = cv2.waitKey(0)\n",
    "\n",
    "                if key == ord('q'):\n",
    "                    quit = True\n",
    "                    break\n",
    "                elif key == ord('a'):\n",
    "                    # Save as a 'dig'\n",
    "                    crop_img_name = f'{crop_img_path}/{splitext(video_file)[0]}{digs}/player_{digs_num}.jpg'\n",
    "                    digs_num += 1\n",
    "                elif key == ord('s'):\n",
    "                    # Save as a 'set'\n",
    "                    crop_img_name = f'{crop_img_path}/{splitext(video_file)[0]}{sets}/player_{sets_num}.jpg'\n",
    "                    sets_num += 1\n",
    "                elif key == ord('d'):\n",
    "                    # Save as a 'other'\n",
    "                    crop_img_name = f'{crop_img_path}/{splitext(video_file)[0]}{others}/player_{others_num}.jpg'\n",
    "                    others_num +=1\n",
    "\n",
    "                cv2.imwrite(crop_img_name, crop_img)\n",
    "\n",
    "# After the loop release the cap object\n",
    "capture.release()\n",
    "# Destroy all the windows\n",
    "cv2.destroyAllWindows()\n",
    "cv2.waitKey(1)"
   ]
  },
  {
   "cell_type": "code",
   "execution_count": null,
   "metadata": {},
   "outputs": [],
   "source": [
    "def draw_bbox(image, dets):\n",
    "    for _, det in dets.iterrows():\n",
    "            image = cv2.rectangle(image, (int(det.xmin),int(det.ymin)), (int(det.xmax), int(det.ymax)), (0,255, 0), 2)"
   ]
  }
 ],
 "metadata": {
  "kernelspec": {
   "display_name": "Python 3.10.9 ('venv': venv)",
   "language": "python",
   "name": "python3"
  },
  "language_info": {
   "codemirror_mode": {
    "name": "ipython",
    "version": 3
   },
   "file_extension": ".py",
   "mimetype": "text/x-python",
   "name": "python",
   "nbconvert_exporter": "python",
   "pygments_lexer": "ipython3",
   "version": "3.10.9"
  },
  "orig_nbformat": 4,
  "vscode": {
   "interpreter": {
    "hash": "e9c032dcc91b613f37cc996d7f3ceda70ce17e143955d0b4f8a1151f022e8b86"
   }
  }
 },
 "nbformat": 4,
 "nbformat_minor": 2
}
